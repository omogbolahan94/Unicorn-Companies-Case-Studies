{
 "cells": [
  {
   "cell_type": "markdown",
   "id": "active-belize",
   "metadata": {
    "tags": []
   },
   "source": [
    "# Unicorn Companies\n",
    "A unicorn company is a privately held company with a current valuation of over $1 billion USD. This dataset consists of unicorn companies and startups across the globe as of November 2021, including country of origin, sector, select investors, and valuation of each unicorn. \n",
    "\n",
    "_Note former unicorn companies that have since exited due to IPO or acquisitions are not included in this list._\n",
    "\n",
    "Not sure where to begin? Scroll to the bottom to find challenges!"
   ]
  },
  {
   "cell_type": "markdown",
   "id": "f86011a3-ce1e-4810-8b06-a7cfbd45a288",
   "metadata": {},
   "source": [
    "[Source](https://www.cbinsights.com/research-unicorn-companies) of dataset. "
   ]
  },
  {
   "cell_type": "markdown",
   "id": "4d6906cd-4f5d-4ecd-bcca-f305750edf4a",
   "metadata": {},
   "source": [
    "### TASK\n",
    "\n",
    "You have been hired as a data scientist for a company that invests in start-ups. Your manager is interested in whether it is possible to predict whether a company reaches a valuation over 5 billion based on characteristics such as its country of origin, its category, and details about its investors."
   ]
  },
  {
   "cell_type": "code",
   "execution_count": null,
   "id": "inclusive-leeds",
   "metadata": {},
   "outputs": [],
   "source": [
    "import pandas as pd\n",
    "import numpy as np\n",
    "import matplotlib.pyplot as plt\n",
    "import seaborn as sns"
   ]
  },
  {
   "cell_type": "code",
   "execution_count": null,
   "id": "e198ab1b-926a-44a0-9a74-58df321fa204",
   "metadata": {},
   "outputs": [
    {
     "data": {
      "application/com.datacamp.data-table.v1+json": {
       "is_truncated": false,
       "table": {
        "data": [
         {
          "Category": "Artificial intelligence",
          "Company": "Bytedance",
          "Country": "China",
          "Date Added": "4/7/17",
          "Select Investors": "Sequoia Capital China, SIG Asia Investments, Sina Weibo, Softbank Group",
          "Valuation ($B) ": "$140.00",
          "index": 0
         },
         {
          "Category": "Other",
          "Company": "SpaceX",
          "Country": "United States",
          "Date Added": "12/1/12",
          "Select Investors": "Founders Fund, Draper Fisher Jurvetson, Rothenberg Ventures",
          "Valuation ($B) ": "$100.30",
          "index": 1
         },
         {
          "Category": "Fintech",
          "Company": "Stripe",
          "Country": "United States",
          "Date Added": "1/23/14",
          "Select Investors": "Khosla Ventures, LowercaseCapital, capitalG",
          "Valuation ($B) ": "$95.00",
          "index": 2
         },
         {
          "Category": "Fintech",
          "Company": "Klarna",
          "Country": "Sweden",
          "Date Added": "12/12/11",
          "Select Investors": "Institutional Venture Partners, Sequoia Capital, General Atlantic",
          "Valuation ($B) ": "$45.60",
          "index": 3
         },
         {
          "Category": "Internet software & services",
          "Company": "Canva",
          "Country": "Australia",
          "Date Added": "1/8/18",
          "Select Investors": "Sequoia Capital China, Blackbird Ventures, Matrix Partners",
          "Valuation ($B) ": "$40.00",
          "index": 4
         }
        ],
        "schema": {
         "fields": [
          {
           "name": "index",
           "type": "integer"
          },
          {
           "name": "Company",
           "type": "string"
          },
          {
           "name": "Valuation ($B) ",
           "type": "string"
          },
          {
           "name": "Date Added",
           "type": "string"
          },
          {
           "name": "Country",
           "type": "string"
          },
          {
           "name": "Category",
           "type": "string"
          },
          {
           "name": "Select Investors",
           "type": "string"
          }
         ],
         "pandas_version": "0.20.0",
         "primaryKey": [
          "index"
         ]
        }
       },
       "total_rows": 5
      },
      "text/html": [
       "<div>\n",
       "<style scoped>\n",
       "    .dataframe tbody tr th:only-of-type {\n",
       "        vertical-align: middle;\n",
       "    }\n",
       "\n",
       "    .dataframe tbody tr th {\n",
       "        vertical-align: top;\n",
       "    }\n",
       "\n",
       "    .dataframe thead th {\n",
       "        text-align: right;\n",
       "    }\n",
       "</style>\n",
       "<table border=\"1\" class=\"dataframe\">\n",
       "  <thead>\n",
       "    <tr style=\"text-align: right;\">\n",
       "      <th></th>\n",
       "      <th>Company</th>\n",
       "      <th>Valuation ($B)</th>\n",
       "      <th>Date Added</th>\n",
       "      <th>Country</th>\n",
       "      <th>Category</th>\n",
       "      <th>Select Investors</th>\n",
       "    </tr>\n",
       "  </thead>\n",
       "  <tbody>\n",
       "    <tr>\n",
       "      <th>0</th>\n",
       "      <td>Bytedance</td>\n",
       "      <td>$140.00</td>\n",
       "      <td>4/7/17</td>\n",
       "      <td>China</td>\n",
       "      <td>Artificial intelligence</td>\n",
       "      <td>Sequoia Capital China, SIG Asia Investments, S...</td>\n",
       "    </tr>\n",
       "    <tr>\n",
       "      <th>1</th>\n",
       "      <td>SpaceX</td>\n",
       "      <td>$100.30</td>\n",
       "      <td>12/1/12</td>\n",
       "      <td>United States</td>\n",
       "      <td>Other</td>\n",
       "      <td>Founders Fund, Draper Fisher Jurvetson, Rothen...</td>\n",
       "    </tr>\n",
       "    <tr>\n",
       "      <th>2</th>\n",
       "      <td>Stripe</td>\n",
       "      <td>$95.00</td>\n",
       "      <td>1/23/14</td>\n",
       "      <td>United States</td>\n",
       "      <td>Fintech</td>\n",
       "      <td>Khosla Ventures, LowercaseCapital, capitalG</td>\n",
       "    </tr>\n",
       "    <tr>\n",
       "      <th>3</th>\n",
       "      <td>Klarna</td>\n",
       "      <td>$45.60</td>\n",
       "      <td>12/12/11</td>\n",
       "      <td>Sweden</td>\n",
       "      <td>Fintech</td>\n",
       "      <td>Institutional Venture Partners, Sequoia Capita...</td>\n",
       "    </tr>\n",
       "    <tr>\n",
       "      <th>4</th>\n",
       "      <td>Canva</td>\n",
       "      <td>$40.00</td>\n",
       "      <td>1/8/18</td>\n",
       "      <td>Australia</td>\n",
       "      <td>Internet software &amp; services</td>\n",
       "      <td>Sequoia Capital China, Blackbird Ventures, Mat...</td>\n",
       "    </tr>\n",
       "  </tbody>\n",
       "</table>\n",
       "</div>"
      ],
      "text/plain": [
       "     Company Valuation ($B)  Date Added        Country  \\\n",
       "0  Bytedance         $140.00     4/7/17          China   \n",
       "1     SpaceX         $100.30    12/1/12  United States   \n",
       "2     Stripe          $95.00    1/23/14  United States   \n",
       "3     Klarna          $45.60   12/12/11         Sweden   \n",
       "4      Canva          $40.00     1/8/18      Australia   \n",
       "\n",
       "                       Category  \\\n",
       "0       Artificial intelligence   \n",
       "1                         Other   \n",
       "2                       Fintech   \n",
       "3                       Fintech   \n",
       "4  Internet software & services   \n",
       "\n",
       "                                    Select Investors  \n",
       "0  Sequoia Capital China, SIG Asia Investments, S...  \n",
       "1  Founders Fund, Draper Fisher Jurvetson, Rothen...  \n",
       "2        Khosla Ventures, LowercaseCapital, capitalG  \n",
       "3  Institutional Venture Partners, Sequoia Capita...  \n",
       "4  Sequoia Capital China, Blackbird Ventures, Mat...  "
      ]
     },
     "execution_count": 264,
     "metadata": {},
     "output_type": "execute_result"
    }
   ],
   "source": [
    "df = pd.read_csv(\"unicorn_companies.csv\")\n",
    "df.head()"
   ]
  },
  {
   "cell_type": "code",
   "execution_count": null,
   "id": "8b94a374-e015-4763-a71d-26e88c2bf4f6",
   "metadata": {},
   "outputs": [
    {
     "name": "stdout",
     "output_type": "stream",
     "text": [
      "<class 'pandas.core.frame.DataFrame'>\n",
      "RangeIndex: 917 entries, 0 to 916\n",
      "Data columns (total 6 columns):\n",
      " #   Column            Non-Null Count  Dtype \n",
      "---  ------            --------------  ----- \n",
      " 0   Company           917 non-null    object\n",
      " 1   Valuation ($B)    917 non-null    object\n",
      " 2   Date Added        917 non-null    object\n",
      " 3   Country           917 non-null    object\n",
      " 4   Category          917 non-null    object\n",
      " 5   Select Investors  916 non-null    object\n",
      "dtypes: object(6)\n",
      "memory usage: 43.1+ KB\n"
     ]
    }
   ],
   "source": [
    "df.info()"
   ]
  },
  {
   "cell_type": "markdown",
   "id": "debd0e03-d553-45c7-b364-0891678f1a5e",
   "metadata": {},
   "source": [
    "there are 917 observation and 6 fields in the data set"
   ]
  },
  {
   "cell_type": "code",
   "execution_count": null,
   "id": "a5516d03-325a-420e-9b27-0fdc2cbc7f26",
   "metadata": {},
   "outputs": [
    {
     "data": {
      "text/plain": [
       "Index(['Company', 'Valuation ($B) ', 'Date Added', 'Country', 'Category',\n",
       "       'Select Investors'],\n",
       "      dtype='object')"
      ]
     },
     "execution_count": 266,
     "metadata": {},
     "output_type": "execute_result"
    }
   ],
   "source": [
    "df.columns"
   ]
  },
  {
   "cell_type": "code",
   "execution_count": null,
   "id": "15dcb3fe-148f-4c83-a5f5-31605e378b1f",
   "metadata": {},
   "outputs": [],
   "source": [
    "# since there is a space in the column name: 'Valuation $B' above, we will change it\n",
    "df.columns = ['Company', 'Valuation ($B)', 'Date Added', 'Country', 'Category',\n",
    "       'Select Investors']"
   ]
  },
  {
   "cell_type": "markdown",
   "id": "32dd9a3e-e634-4e38-b3be-7b79123725a0",
   "metadata": {},
   "source": []
  },
  {
   "cell_type": "markdown",
   "id": "9d63e2bb-e875-4b71-827e-8d626d0b7b73",
   "metadata": {},
   "source": [
    "### DATA CLEANING"
   ]
  },
  {
   "cell_type": "code",
   "execution_count": null,
   "id": "a096fe8c-fd19-45e1-a466-2f2e4f34fb75",
   "metadata": {},
   "outputs": [
    {
     "data": {
      "text/plain": [
       "Company             0\n",
       "Valuation ($B)      0\n",
       "Date Added          0\n",
       "Country             0\n",
       "Category            0\n",
       "Select Investors    1\n",
       "dtype: int64"
      ]
     },
     "execution_count": 268,
     "metadata": {},
     "output_type": "execute_result"
    }
   ],
   "source": [
    "# confirm if there is missing value in any of the field\n",
    "df.isna().sum()"
   ]
  },
  {
   "cell_type": "code",
   "execution_count": null,
   "id": "2024afa6-461a-41da-be60-a74b84c301cc",
   "metadata": {},
   "outputs": [
    {
     "data": {
      "application/com.datacamp.data-table.v1+json": {
       "is_truncated": false,
       "table": {
        "data": [
         {
          "Category": "Mobile & telecommunications",
          "Company": "LinkSure Network",
          "Country": "China",
          "Date Added": "1/1/15",
          "Select Investors": null,
          "Valuation ($B)": "$1.00",
          "index": 705
         }
        ],
        "schema": {
         "fields": [
          {
           "name": "index",
           "type": "integer"
          },
          {
           "name": "Company",
           "type": "string"
          },
          {
           "name": "Valuation ($B)",
           "type": "string"
          },
          {
           "name": "Date Added",
           "type": "string"
          },
          {
           "name": "Country",
           "type": "string"
          },
          {
           "name": "Category",
           "type": "string"
          },
          {
           "name": "Select Investors",
           "type": "string"
          }
         ],
         "pandas_version": "0.20.0",
         "primaryKey": [
          "index"
         ]
        }
       },
       "total_rows": 1
      },
      "text/html": [
       "<div>\n",
       "<style scoped>\n",
       "    .dataframe tbody tr th:only-of-type {\n",
       "        vertical-align: middle;\n",
       "    }\n",
       "\n",
       "    .dataframe tbody tr th {\n",
       "        vertical-align: top;\n",
       "    }\n",
       "\n",
       "    .dataframe thead th {\n",
       "        text-align: right;\n",
       "    }\n",
       "</style>\n",
       "<table border=\"1\" class=\"dataframe\">\n",
       "  <thead>\n",
       "    <tr style=\"text-align: right;\">\n",
       "      <th></th>\n",
       "      <th>Company</th>\n",
       "      <th>Valuation ($B)</th>\n",
       "      <th>Date Added</th>\n",
       "      <th>Country</th>\n",
       "      <th>Category</th>\n",
       "      <th>Select Investors</th>\n",
       "    </tr>\n",
       "  </thead>\n",
       "  <tbody>\n",
       "    <tr>\n",
       "      <th>705</th>\n",
       "      <td>LinkSure Network</td>\n",
       "      <td>$1.00</td>\n",
       "      <td>1/1/15</td>\n",
       "      <td>China</td>\n",
       "      <td>Mobile &amp; telecommunications</td>\n",
       "      <td>NaN</td>\n",
       "    </tr>\n",
       "  </tbody>\n",
       "</table>\n",
       "</div>"
      ],
      "text/plain": [
       "              Company Valuation ($B) Date Added Country  \\\n",
       "705  LinkSure Network          $1.00     1/1/15   China   \n",
       "\n",
       "                        Category Select Investors  \n",
       "705  Mobile & telecommunications              NaN  "
      ]
     },
     "execution_count": 269,
     "metadata": {},
     "output_type": "execute_result"
    }
   ],
   "source": [
    "# there is a missing value in the select investors field\n",
    "# what is the observation with the missing value\n",
    "df[df[\"Select Investors\"].isna()==True]"
   ]
  },
  {
   "cell_type": "markdown",
   "id": "0e971746-7e63-4f65-b511-682f28ea2d69",
   "metadata": {},
   "source": [
    "as can be seen, the company whose investors data is missing is Linksure Network,located in China"
   ]
  },
  {
   "cell_type": "code",
   "execution_count": null,
   "id": "0f7a0cc4-0cb4-474c-aded-55dfc2cd0d7e",
   "metadata": {},
   "outputs": [
    {
     "data": {
      "text/plain": [
       "Category\n",
       "Artificial Intelligence                  3\n",
       "Artificial intelligence                 69\n",
       "Auto & transportation                   30\n",
       "Consumer & retail                       23\n",
       "Cybersecurity                           38\n",
       "Data management & analytics             35\n",
       "E-commerce & direct-to-consumer         97\n",
       "Edtech                                  27\n",
       "Fintech                                184\n",
       "Finttech                                 1\n",
       "Hardware                                32\n",
       "Health                                  62\n",
       "Internet software & services           164\n",
       "Mobile & telecommunications             36\n",
       "Other                                   51\n",
       "Supply chain, logistics, & delivery     51\n",
       "Travel                                  14\n",
       "dtype: int64"
      ]
     },
     "execution_count": 270,
     "metadata": {},
     "output_type": "execute_result"
    }
   ],
   "source": [
    "# verify the entries of the category field\n",
    "df.groupby(\"Category\").size()"
   ]
  },
  {
   "cell_type": "markdown",
   "id": "09eeed8a-2ac7-4e7b-9db9-1826206eff35",
   "metadata": {},
   "source": [
    "it can be seen that some of the Artificial Intelligence and Fintect category entries were mistyped\n",
    "and they have to be cleaned "
   ]
  },
  {
   "cell_type": "code",
   "execution_count": null,
   "id": "67713e31-9de5-498b-9065-6b4eb565cc74",
   "metadata": {},
   "outputs": [
    {
     "data": {
      "text/plain": [
       "Category\n",
       "Artificial intelligence                 72\n",
       "Auto & transportation                   30\n",
       "Consumer & retail                       23\n",
       "Cybersecurity                           38\n",
       "Data management & analytics             35\n",
       "E-commerce & direct-to-consumer         97\n",
       "Edtech                                  27\n",
       "Fintech                                185\n",
       "Hardware                                32\n",
       "Health                                  62\n",
       "Internet software & services           164\n",
       "Mobile & telecommunications             36\n",
       "Other                                   51\n",
       "Supply chain, logistics, & delivery     51\n",
       "Travel                                  14\n",
       "dtype: int64"
      ]
     },
     "execution_count": 271,
     "metadata": {},
     "output_type": "execute_result"
    }
   ],
   "source": [
    "df[\"Category\"] = df[\"Category\"].apply(lambda x: \"Fintech\" if x.startswith(\"Fint\") else x.strip().capitalize())\n",
    "df.groupby(\"Category\").size()"
   ]
  },
  {
   "cell_type": "code",
   "execution_count": null,
   "id": "0f60188e-71ca-4ad1-93bd-5fc66f2c1189",
   "metadata": {},
   "outputs": [
    {
     "data": {
      "text/plain": [
       "Country\n",
       "Argentina                 1\n",
       "Australia                 5\n",
       "Austria                   2\n",
       "Belgium                   2\n",
       "Bermuda                   1\n",
       "Brazil                   14\n",
       "Canada                   15\n",
       "Chile                     1\n",
       "China                   169\n",
       "Colombia                  2\n",
       "Croatia                   1\n",
       "Czech Republic            1\n",
       "Denmark                   2\n",
       "Estonia                   1\n",
       "Finland                   2\n",
       "France                   19\n",
       "Germany                  22\n",
       "Hong Kong                 7\n",
       "India                    48\n",
       "Indonesia                 4\n",
       "Indonesia,                1\n",
       "Ireland                   3\n",
       "Israel                   20\n",
       "Japan                     6\n",
       "Lithuania                 1\n",
       "Luxembourg                1\n",
       "Malaysia                  1\n",
       "Mexico                    4\n",
       "Netherlands               5\n",
       "Nigeria                   1\n",
       "Norway                    3\n",
       "Philippines               2\n",
       "Santa Clara               1\n",
       "Senegal                   1\n",
       "Singapore                12\n",
       "South Africa              2\n",
       "South Korea              11\n",
       "Spain                     3\n",
       "Sweden                    4\n",
       "Switzerland               4\n",
       "Thailand                  2\n",
       "Turkey                    2\n",
       "United Arab Emirates      3\n",
       "United Kingdom           34\n",
       "United States           469\n",
       "United States,            1\n",
       "Vietnam                   1\n",
       "dtype: int64"
      ]
     },
     "execution_count": 272,
     "metadata": {},
     "output_type": "execute_result"
    }
   ],
   "source": [
    "# verify the entries of the country field\n",
    "df.groupby(\"Country\").size()"
   ]
  },
  {
   "cell_type": "markdown",
   "id": "e7ebefa6-1bca-40fe-96d4-9987862caab6",
   "metadata": {},
   "source": [
    "it can be verified that Indonesia and United States have some mistyped entries which have to be cleaned"
   ]
  },
  {
   "cell_type": "code",
   "execution_count": null,
   "id": "43d3d786-3ba4-4ff2-a31e-f30e92c63d01",
   "metadata": {},
   "outputs": [
    {
     "data": {
      "text/plain": [
       "Country\n",
       "Argentina                 1\n",
       "Australia                 5\n",
       "Austria                   2\n",
       "Belgium                   2\n",
       "Bermuda                   1\n",
       "Brazil                   14\n",
       "Canada                   15\n",
       "Chile                     1\n",
       "China                   169\n",
       "Colombia                  2\n",
       "Croatia                   1\n",
       "Czech Republic            1\n",
       "Denmark                   2\n",
       "Estonia                   1\n",
       "Finland                   2\n",
       "France                   19\n",
       "Germany                  22\n",
       "Hong Kong                 7\n",
       "India                    48\n",
       "Indonesia                 5\n",
       "Ireland                   3\n",
       "Israel                   20\n",
       "Japan                     6\n",
       "Lithuania                 1\n",
       "Luxembourg                1\n",
       "Malaysia                  1\n",
       "Mexico                    4\n",
       "Netherlands               5\n",
       "Nigeria                   1\n",
       "Norway                    3\n",
       "Philippines               2\n",
       "Santa Clara               1\n",
       "Senegal                   1\n",
       "Singapore                12\n",
       "South Africa              2\n",
       "South Korea              11\n",
       "Spain                     3\n",
       "Sweden                    4\n",
       "Switzerland               4\n",
       "Thailand                  2\n",
       "Turkey                    2\n",
       "United Arab Emirates      3\n",
       "United Kingdom           34\n",
       "United States           470\n",
       "Vietnam                   1\n",
       "dtype: int64"
      ]
     },
     "execution_count": 273,
     "metadata": {},
     "output_type": "execute_result"
    }
   ],
   "source": [
    "for i, entry in enumerate(list(df[\"Country\"])):\n",
    "    if entry.startswith(\"Indonesia\"):\n",
    "        df.loc[i, \"Country\"] = \"Indonesia\"\n",
    "    elif entry.startswith(\"United States\"):\n",
    "        df.loc[i, \"Country\"] = \"United States\"\n",
    "\n",
    "df.groupby(\"Country\").size()"
   ]
  },
  {
   "cell_type": "code",
   "execution_count": null,
   "id": "db3d17b1-3396-41b6-8b46-18c672cae4b0",
   "metadata": {},
   "outputs": [],
   "source": [
    "# the date field is a string type which has to be converted to date type\n",
    "df[\"Date Added\"] = pd.to_datetime(df[\"Date Added\"])"
   ]
  },
  {
   "cell_type": "code",
   "execution_count": null,
   "id": "49299b1d-4857-4798-9d5a-ab4892e25db4",
   "metadata": {},
   "outputs": [
    {
     "data": {
      "text/plain": [
       "0    140.0\n",
       "1    100.3\n",
       "2     95.0\n",
       "3     45.6\n",
       "4     40.0\n",
       "Name: Valuation ($B), dtype: float64"
      ]
     },
     "execution_count": 275,
     "metadata": {},
     "output_type": "execute_result"
    }
   ],
   "source": [
    "# the valuation field is a string which is suppose to be a numeric value\n",
    "# also remove the left dollar sign\n",
    "df['Valuation ($B)'] = df['Valuation ($B)'].apply(lambda x: float(x[1:]))\n",
    "df['Valuation ($B)'].head()"
   ]
  },
  {
   "cell_type": "code",
   "execution_count": null,
   "id": "d4647f77-4726-4466-bd14-26be41a50614",
   "metadata": {},
   "outputs": [],
   "source": []
  },
  {
   "cell_type": "markdown",
   "id": "eda5b4f3-5587-42d0-983f-4cefa158ff95",
   "metadata": {},
   "source": [
    "### FEATURE ENGINEERING"
   ]
  },
  {
   "cell_type": "code",
   "execution_count": null,
   "id": "7aa1df11-a432-4b19-935b-3439dcdf986b",
   "metadata": {},
   "outputs": [],
   "source": [
    "# creating a column with the num of investors in each company\n",
    "df[\"No. Investors\"] = df['Select Investors'].apply(lambda x: 0 if x==\"null\" else len(str(x).split(\",\")))"
   ]
  },
  {
   "cell_type": "code",
   "execution_count": null,
   "id": "6f571204-7283-4f0e-ba28-3698c68e732d",
   "metadata": {},
   "outputs": [
    {
     "data": {
      "application/com.datacamp.data-table.v1+json": {
       "is_truncated": false,
       "table": {
        "data": [
         {
          "Category": "Artificial intelligence",
          "Company": "Bytedance",
          "Country": "China",
          "Date Added": "2017-04-07T00:00:00.000Z",
          "No. Investors": 4,
          "Select Investors": "Sequoia Capital China, SIG Asia Investments, Sina Weibo, Softbank Group",
          "Valuation ($B)": 140,
          "index": 0
         },
         {
          "Category": "Other",
          "Company": "SpaceX",
          "Country": "United States",
          "Date Added": "2012-12-01T00:00:00.000Z",
          "No. Investors": 3,
          "Select Investors": "Founders Fund, Draper Fisher Jurvetson, Rothenberg Ventures",
          "Valuation ($B)": 100.3,
          "index": 1
         },
         {
          "Category": "Fintech",
          "Company": "Stripe",
          "Country": "United States",
          "Date Added": "2014-01-23T00:00:00.000Z",
          "No. Investors": 3,
          "Select Investors": "Khosla Ventures, LowercaseCapital, capitalG",
          "Valuation ($B)": 95,
          "index": 2
         },
         {
          "Category": "Fintech",
          "Company": "Klarna",
          "Country": "Sweden",
          "Date Added": "2011-12-12T00:00:00.000Z",
          "No. Investors": 3,
          "Select Investors": "Institutional Venture Partners, Sequoia Capital, General Atlantic",
          "Valuation ($B)": 45.6,
          "index": 3
         },
         {
          "Category": "Internet software & services",
          "Company": "Canva",
          "Country": "Australia",
          "Date Added": "2018-01-08T00:00:00.000Z",
          "No. Investors": 3,
          "Select Investors": "Sequoia Capital China, Blackbird Ventures, Matrix Partners",
          "Valuation ($B)": 40,
          "index": 4
         }
        ],
        "schema": {
         "fields": [
          {
           "name": "index",
           "type": "integer"
          },
          {
           "name": "Company",
           "type": "string"
          },
          {
           "name": "Valuation ($B)",
           "type": "number"
          },
          {
           "name": "Date Added",
           "type": "datetime"
          },
          {
           "name": "Country",
           "type": "string"
          },
          {
           "name": "Category",
           "type": "string"
          },
          {
           "name": "Select Investors",
           "type": "string"
          },
          {
           "name": "No. Investors",
           "type": "integer"
          }
         ],
         "pandas_version": "0.20.0",
         "primaryKey": [
          "index"
         ]
        }
       },
       "total_rows": 5
      },
      "text/html": [
       "<div>\n",
       "<style scoped>\n",
       "    .dataframe tbody tr th:only-of-type {\n",
       "        vertical-align: middle;\n",
       "    }\n",
       "\n",
       "    .dataframe tbody tr th {\n",
       "        vertical-align: top;\n",
       "    }\n",
       "\n",
       "    .dataframe thead th {\n",
       "        text-align: right;\n",
       "    }\n",
       "</style>\n",
       "<table border=\"1\" class=\"dataframe\">\n",
       "  <thead>\n",
       "    <tr style=\"text-align: right;\">\n",
       "      <th></th>\n",
       "      <th>Company</th>\n",
       "      <th>Valuation ($B)</th>\n",
       "      <th>Date Added</th>\n",
       "      <th>Country</th>\n",
       "      <th>Category</th>\n",
       "      <th>Select Investors</th>\n",
       "      <th>No. Investors</th>\n",
       "    </tr>\n",
       "  </thead>\n",
       "  <tbody>\n",
       "    <tr>\n",
       "      <th>0</th>\n",
       "      <td>Bytedance</td>\n",
       "      <td>140.0</td>\n",
       "      <td>2017-04-07</td>\n",
       "      <td>China</td>\n",
       "      <td>Artificial intelligence</td>\n",
       "      <td>Sequoia Capital China, SIG Asia Investments, S...</td>\n",
       "      <td>4</td>\n",
       "    </tr>\n",
       "    <tr>\n",
       "      <th>1</th>\n",
       "      <td>SpaceX</td>\n",
       "      <td>100.3</td>\n",
       "      <td>2012-12-01</td>\n",
       "      <td>United States</td>\n",
       "      <td>Other</td>\n",
       "      <td>Founders Fund, Draper Fisher Jurvetson, Rothen...</td>\n",
       "      <td>3</td>\n",
       "    </tr>\n",
       "    <tr>\n",
       "      <th>2</th>\n",
       "      <td>Stripe</td>\n",
       "      <td>95.0</td>\n",
       "      <td>2014-01-23</td>\n",
       "      <td>United States</td>\n",
       "      <td>Fintech</td>\n",
       "      <td>Khosla Ventures, LowercaseCapital, capitalG</td>\n",
       "      <td>3</td>\n",
       "    </tr>\n",
       "    <tr>\n",
       "      <th>3</th>\n",
       "      <td>Klarna</td>\n",
       "      <td>45.6</td>\n",
       "      <td>2011-12-12</td>\n",
       "      <td>Sweden</td>\n",
       "      <td>Fintech</td>\n",
       "      <td>Institutional Venture Partners, Sequoia Capita...</td>\n",
       "      <td>3</td>\n",
       "    </tr>\n",
       "    <tr>\n",
       "      <th>4</th>\n",
       "      <td>Canva</td>\n",
       "      <td>40.0</td>\n",
       "      <td>2018-01-08</td>\n",
       "      <td>Australia</td>\n",
       "      <td>Internet software &amp; services</td>\n",
       "      <td>Sequoia Capital China, Blackbird Ventures, Mat...</td>\n",
       "      <td>3</td>\n",
       "    </tr>\n",
       "  </tbody>\n",
       "</table>\n",
       "</div>"
      ],
      "text/plain": [
       "     Company  Valuation ($B) Date Added        Country  \\\n",
       "0  Bytedance           140.0 2017-04-07          China   \n",
       "1     SpaceX           100.3 2012-12-01  United States   \n",
       "2     Stripe            95.0 2014-01-23  United States   \n",
       "3     Klarna            45.6 2011-12-12         Sweden   \n",
       "4      Canva            40.0 2018-01-08      Australia   \n",
       "\n",
       "                       Category  \\\n",
       "0       Artificial intelligence   \n",
       "1                         Other   \n",
       "2                       Fintech   \n",
       "3                       Fintech   \n",
       "4  Internet software & services   \n",
       "\n",
       "                                    Select Investors  No. Investors  \n",
       "0  Sequoia Capital China, SIG Asia Investments, S...              4  \n",
       "1  Founders Fund, Draper Fisher Jurvetson, Rothen...              3  \n",
       "2        Khosla Ventures, LowercaseCapital, capitalG              3  \n",
       "3  Institutional Venture Partners, Sequoia Capita...              3  \n",
       "4  Sequoia Capital China, Blackbird Ventures, Mat...              3  "
      ]
     },
     "execution_count": 277,
     "metadata": {},
     "output_type": "execute_result"
    }
   ],
   "source": [
    "# view the dataframe again\n",
    "df.head()"
   ]
  },
  {
   "cell_type": "code",
   "execution_count": null,
   "id": "9fd1e4ad-ed72-4706-aaa5-c21ee153edea",
   "metadata": {},
   "outputs": [],
   "source": []
  },
  {
   "cell_type": "markdown",
   "id": "35e67df8-4856-4ae1-9a16-0099ae38d3a7",
   "metadata": {},
   "source": [
    "### ANALYSE DATA"
   ]
  },
  {
   "cell_type": "code",
   "execution_count": null,
   "id": "540a6a6c-0a96-4b1d-85c6-afb4c0e92bb6",
   "metadata": {},
   "outputs": [
    {
     "data": {
      "application/com.datacamp.data-table.v1+json": {
       "is_truncated": false,
       "table": {
        "data": [
         {
          "No. Investors": 917,
          "Valuation ($B)": 917,
          "index": "count"
         },
         {
          "No. Investors": 2.826608506,
          "Valuation ($B)": 3.3116902944,
          "index": "mean"
         },
         {
          "No. Investors": 0.5133913619,
          "Valuation ($B)": 7.5422814648,
          "index": "std"
         },
         {
          "No. Investors": 1,
          "Valuation ($B)": 1,
          "index": "min"
         },
         {
          "No. Investors": 3,
          "Valuation ($B)": 1.07,
          "index": "25%"
         },
         {
          "No. Investors": 3,
          "Valuation ($B)": 1.6,
          "index": "50%"
         },
         {
          "No. Investors": 3,
          "Valuation ($B)": 3,
          "index": "75%"
         },
         {
          "No. Investors": 4,
          "Valuation ($B)": 140,
          "index": "max"
         }
        ],
        "schema": {
         "fields": [
          {
           "name": "index",
           "type": "string"
          },
          {
           "name": "Valuation ($B)",
           "type": "number"
          },
          {
           "name": "No. Investors",
           "type": "number"
          }
         ],
         "pandas_version": "0.20.0",
         "primaryKey": [
          "index"
         ]
        }
       },
       "total_rows": 8
      },
      "text/html": [
       "<div>\n",
       "<style scoped>\n",
       "    .dataframe tbody tr th:only-of-type {\n",
       "        vertical-align: middle;\n",
       "    }\n",
       "\n",
       "    .dataframe tbody tr th {\n",
       "        vertical-align: top;\n",
       "    }\n",
       "\n",
       "    .dataframe thead th {\n",
       "        text-align: right;\n",
       "    }\n",
       "</style>\n",
       "<table border=\"1\" class=\"dataframe\">\n",
       "  <thead>\n",
       "    <tr style=\"text-align: right;\">\n",
       "      <th></th>\n",
       "      <th>Valuation ($B)</th>\n",
       "      <th>No. Investors</th>\n",
       "    </tr>\n",
       "  </thead>\n",
       "  <tbody>\n",
       "    <tr>\n",
       "      <th>count</th>\n",
       "      <td>917.000000</td>\n",
       "      <td>917.000000</td>\n",
       "    </tr>\n",
       "    <tr>\n",
       "      <th>mean</th>\n",
       "      <td>3.311690</td>\n",
       "      <td>2.826609</td>\n",
       "    </tr>\n",
       "    <tr>\n",
       "      <th>std</th>\n",
       "      <td>7.542281</td>\n",
       "      <td>0.513391</td>\n",
       "    </tr>\n",
       "    <tr>\n",
       "      <th>min</th>\n",
       "      <td>1.000000</td>\n",
       "      <td>1.000000</td>\n",
       "    </tr>\n",
       "    <tr>\n",
       "      <th>25%</th>\n",
       "      <td>1.070000</td>\n",
       "      <td>3.000000</td>\n",
       "    </tr>\n",
       "    <tr>\n",
       "      <th>50%</th>\n",
       "      <td>1.600000</td>\n",
       "      <td>3.000000</td>\n",
       "    </tr>\n",
       "    <tr>\n",
       "      <th>75%</th>\n",
       "      <td>3.000000</td>\n",
       "      <td>3.000000</td>\n",
       "    </tr>\n",
       "    <tr>\n",
       "      <th>max</th>\n",
       "      <td>140.000000</td>\n",
       "      <td>4.000000</td>\n",
       "    </tr>\n",
       "  </tbody>\n",
       "</table>\n",
       "</div>"
      ],
      "text/plain": [
       "       Valuation ($B)  No. Investors\n",
       "count      917.000000     917.000000\n",
       "mean         3.311690       2.826609\n",
       "std          7.542281       0.513391\n",
       "min          1.000000       1.000000\n",
       "25%          1.070000       3.000000\n",
       "50%          1.600000       3.000000\n",
       "75%          3.000000       3.000000\n",
       "max        140.000000       4.000000"
      ]
     },
     "execution_count": 278,
     "metadata": {},
     "output_type": "execute_result"
    }
   ],
   "source": [
    "# summary statistics\n",
    "df.describe()"
   ]
  },
  {
   "cell_type": "markdown",
   "id": "c0245793-4f95-4487-a3f9-616a48ca843d",
   "metadata": {},
   "source": []
  },
  {
   "cell_type": "code",
   "execution_count": null,
   "id": "33594388-8d8a-4d36-87b5-9ade1fe9f0be",
   "metadata": {},
   "outputs": [],
   "source": [
    "# Categories of companies and their count\n",
    "categories = df.groupby(\"Category\").size()"
   ]
  },
  {
   "cell_type": "code",
   "execution_count": null,
   "id": "74a068f8-5131-4fb8-94ca-8a3a095fc16a",
   "metadata": {},
   "outputs": [
    {
     "data": {
      "application/com.datacamp.data-table.v1+json": {
       "is_truncated": false,
       "table": {
        "data": [
         {
          "categories": "Artificial intelligence",
          "counts": 72,
          "index": 0
         },
         {
          "categories": "Auto & transportation",
          "counts": 30,
          "index": 1
         },
         {
          "categories": "Consumer & retail",
          "counts": 23,
          "index": 2
         },
         {
          "categories": "Cybersecurity",
          "counts": 38,
          "index": 3
         },
         {
          "categories": "Data management & analytics",
          "counts": 35,
          "index": 4
         },
         {
          "categories": "E-commerce & direct-to-consumer",
          "counts": 97,
          "index": 5
         },
         {
          "categories": "Edtech",
          "counts": 27,
          "index": 6
         },
         {
          "categories": "Fintech",
          "counts": 185,
          "index": 7
         },
         {
          "categories": "Hardware",
          "counts": 32,
          "index": 8
         },
         {
          "categories": "Health",
          "counts": 62,
          "index": 9
         },
         {
          "categories": "Internet software & services",
          "counts": 164,
          "index": 10
         },
         {
          "categories": "Mobile & telecommunications",
          "counts": 36,
          "index": 11
         },
         {
          "categories": "Other",
          "counts": 51,
          "index": 12
         },
         {
          "categories": "Supply chain, logistics, & delivery",
          "counts": 51,
          "index": 13
         },
         {
          "categories": "Travel",
          "counts": 14,
          "index": 14
         }
        ],
        "schema": {
         "fields": [
          {
           "name": "index",
           "type": "integer"
          },
          {
           "name": "categories",
           "type": "string"
          },
          {
           "name": "counts",
           "type": "integer"
          }
         ],
         "pandas_version": "0.20.0",
         "primaryKey": [
          "index"
         ]
        }
       },
       "total_rows": 15
      },
      "text/html": [
       "<div>\n",
       "<style scoped>\n",
       "    .dataframe tbody tr th:only-of-type {\n",
       "        vertical-align: middle;\n",
       "    }\n",
       "\n",
       "    .dataframe tbody tr th {\n",
       "        vertical-align: top;\n",
       "    }\n",
       "\n",
       "    .dataframe thead th {\n",
       "        text-align: right;\n",
       "    }\n",
       "</style>\n",
       "<table border=\"1\" class=\"dataframe\">\n",
       "  <thead>\n",
       "    <tr style=\"text-align: right;\">\n",
       "      <th></th>\n",
       "      <th>categories</th>\n",
       "      <th>counts</th>\n",
       "    </tr>\n",
       "  </thead>\n",
       "  <tbody>\n",
       "    <tr>\n",
       "      <th>0</th>\n",
       "      <td>Artificial intelligence</td>\n",
       "      <td>72</td>\n",
       "    </tr>\n",
       "    <tr>\n",
       "      <th>1</th>\n",
       "      <td>Auto &amp; transportation</td>\n",
       "      <td>30</td>\n",
       "    </tr>\n",
       "    <tr>\n",
       "      <th>2</th>\n",
       "      <td>Consumer &amp; retail</td>\n",
       "      <td>23</td>\n",
       "    </tr>\n",
       "    <tr>\n",
       "      <th>3</th>\n",
       "      <td>Cybersecurity</td>\n",
       "      <td>38</td>\n",
       "    </tr>\n",
       "    <tr>\n",
       "      <th>4</th>\n",
       "      <td>Data management &amp; analytics</td>\n",
       "      <td>35</td>\n",
       "    </tr>\n",
       "    <tr>\n",
       "      <th>5</th>\n",
       "      <td>E-commerce &amp; direct-to-consumer</td>\n",
       "      <td>97</td>\n",
       "    </tr>\n",
       "    <tr>\n",
       "      <th>6</th>\n",
       "      <td>Edtech</td>\n",
       "      <td>27</td>\n",
       "    </tr>\n",
       "    <tr>\n",
       "      <th>7</th>\n",
       "      <td>Fintech</td>\n",
       "      <td>185</td>\n",
       "    </tr>\n",
       "    <tr>\n",
       "      <th>8</th>\n",
       "      <td>Hardware</td>\n",
       "      <td>32</td>\n",
       "    </tr>\n",
       "    <tr>\n",
       "      <th>9</th>\n",
       "      <td>Health</td>\n",
       "      <td>62</td>\n",
       "    </tr>\n",
       "    <tr>\n",
       "      <th>10</th>\n",
       "      <td>Internet software &amp; services</td>\n",
       "      <td>164</td>\n",
       "    </tr>\n",
       "    <tr>\n",
       "      <th>11</th>\n",
       "      <td>Mobile &amp; telecommunications</td>\n",
       "      <td>36</td>\n",
       "    </tr>\n",
       "    <tr>\n",
       "      <th>12</th>\n",
       "      <td>Other</td>\n",
       "      <td>51</td>\n",
       "    </tr>\n",
       "    <tr>\n",
       "      <th>13</th>\n",
       "      <td>Supply chain, logistics, &amp; delivery</td>\n",
       "      <td>51</td>\n",
       "    </tr>\n",
       "    <tr>\n",
       "      <th>14</th>\n",
       "      <td>Travel</td>\n",
       "      <td>14</td>\n",
       "    </tr>\n",
       "  </tbody>\n",
       "</table>\n",
       "</div>"
      ],
      "text/plain": [
       "                             categories  counts\n",
       "0               Artificial intelligence      72\n",
       "1                 Auto & transportation      30\n",
       "2                     Consumer & retail      23\n",
       "3                         Cybersecurity      38\n",
       "4           Data management & analytics      35\n",
       "5       E-commerce & direct-to-consumer      97\n",
       "6                                Edtech      27\n",
       "7                               Fintech     185\n",
       "8                              Hardware      32\n",
       "9                                Health      62\n",
       "10         Internet software & services     164\n",
       "11          Mobile & telecommunications      36\n",
       "12                                Other      51\n",
       "13  Supply chain, logistics, & delivery      51\n",
       "14                               Travel      14"
      ]
     },
     "execution_count": 280,
     "metadata": {},
     "output_type": "execute_result"
    }
   ],
   "source": [
    "categories_count_table = pd.DataFrame({\"categories\": categories.index, \"counts\": categories.values})\n",
    "categories_count_table"
   ]
  },
  {
   "cell_type": "code",
   "execution_count": null,
   "id": "e94bb5cb-573a-4d18-a246-7fd35b6bc73c",
   "metadata": {},
   "outputs": [
    {
     "data": {
      "text/plain": [
       "(array([  0.,  25.,  50.,  75., 100., 125., 150., 175., 200.]),\n",
       " [Text(0, 0, ''),\n",
       "  Text(0, 0, ''),\n",
       "  Text(0, 0, ''),\n",
       "  Text(0, 0, ''),\n",
       "  Text(0, 0, ''),\n",
       "  Text(0, 0, ''),\n",
       "  Text(0, 0, ''),\n",
       "  Text(0, 0, ''),\n",
       "  Text(0, 0, '')])"
      ]
     },
     "execution_count": 281,
     "metadata": {},
     "output_type": "execute_result"
    },
    {
     "data": {
      "image/png": "[encoded data removed]",
      "text/plain": [
       "<Figure size 360x432 with 1 Axes>"
      ]
     },
     "metadata": {},
     "output_type": "display_data"
    }
   ],
   "source": [
    "sns.set(rc = {'figure.figsize':(5,6)})\n",
    "sns.countplot(y=df['Category'])\n",
    "plt.title(\"Companies Categories and Their Count\", loc=\"left\")\n",
    "plt.xlabel(\"No. of Companies\")\n",
    "plt.ylabel(\"Category\")\n",
    "plt.xticks(rotation=90)\n",
    "# ax = plt.gca()\n",
    "# plt.draw()\n",
    "# ax.set_yticklabels(labels=category_count_table.index)\n",
    "# plt.show()"
   ]
  },
  {
   "cell_type": "markdown",
   "id": "fe922179-f88a-4315-9662-4e1a7fae236d",
   "metadata": {},
   "source": [
    "as can be seen from the above plot, the most occuring category of companies in our dataset is Fintech and the least occuring category is Travel"
   ]
  },
  {
   "cell_type": "code",
   "execution_count": null,
   "id": "841a93fb-15b7-48ba-8503-317a08fa36eb",
   "metadata": {},
   "outputs": [],
   "source": []
  },
  {
   "cell_type": "code",
   "execution_count": null,
   "id": "4decf451-08ea-437f-b6c5-2e8ebf7cb7de",
   "metadata": {},
   "outputs": [],
   "source": [
    "# countries and their count\n",
    "countries = df.groupby(\"Country\").size()"
   ]
  },
  {
   "cell_type": "code",
   "execution_count": null,
   "id": "a3ce76a8-f53a-45b9-85a2-5c2af638ea70",
   "metadata": {},
   "outputs": [
    {
     "data": {
      "application/com.datacamp.data-table.v1+json": {
       "is_truncated": false,
       "table": {
        "data": [
         {
          "countries": "Argentina",
          "counts": 1,
          "index": 0
         },
         {
          "countries": "Australia",
          "counts": 5,
          "index": 1
         },
         {
          "countries": "Austria",
          "counts": 2,
          "index": 2
         },
         {
          "countries": "Belgium",
          "counts": 2,
          "index": 3
         },
         {
          "countries": "Bermuda",
          "counts": 1,
          "index": 4
         },
         {
          "countries": "Brazil",
          "counts": 14,
          "index": 5
         },
         {
          "countries": "Canada",
          "counts": 15,
          "index": 6
         },
         {
          "countries": "Chile",
          "counts": 1,
          "index": 7
         },
         {
          "countries": "China",
          "counts": 169,
          "index": 8
         },
         {
          "countries": "Colombia",
          "counts": 2,
          "index": 9
         },
         {
          "countries": "Croatia",
          "counts": 1,
          "index": 10
         },
         {
          "countries": "Czech Republic",
          "counts": 1,
          "index": 11
         },
         {
          "countries": "Denmark",
          "counts": 2,
          "index": 12
         },
         {
          "countries": "Estonia",
          "counts": 1,
          "index": 13
         },
         {
          "countries": "Finland",
          "counts": 2,
          "index": 14
         },
         {
          "countries": "France",
          "counts": 19,
          "index": 15
         },
         {
          "countries": "Germany",
          "counts": 22,
          "index": 16
         },
         {
          "countries": "Hong Kong",
          "counts": 7,
          "index": 17
         },
         {
          "countries": "India",
          "counts": 48,
          "index": 18
         },
         {
          "countries": "Indonesia",
          "counts": 5,
          "index": 19
         },
         {
          "countries": "Ireland",
          "counts": 3,
          "index": 20
         },
         {
          "countries": "Israel",
          "counts": 20,
          "index": 21
         },
         {
          "countries": "Japan",
          "counts": 6,
          "index": 22
         },
         {
          "countries": "Lithuania",
          "counts": 1,
          "index": 23
         },
         {
          "countries": "Luxembourg",
          "counts": 1,
          "index": 24
         },
         {
          "countries": "Malaysia",
          "counts": 1,
          "index": 25
         },
         {
          "countries": "Mexico",
          "counts": 4,
          "index": 26
         },
         {
          "countries": "Netherlands",
          "counts": 5,
          "index": 27
         },
         {
          "countries": "Nigeria",
          "counts": 1,
          "index": 28
         },
         {
          "countries": "Norway",
          "counts": 3,
          "index": 29
         },
         {
          "countries": "Philippines",
          "counts": 2,
          "index": 30
         },
         {
          "countries": "Santa Clara",
          "counts": 1,
          "index": 31
         },
         {
          "countries": "Senegal",
          "counts": 1,
          "index": 32
         },
         {
          "countries": "Singapore",
          "counts": 12,
          "index": 33
         },
         {
          "countries": "South Africa",
          "counts": 2,
          "index": 34
         },
         {
          "countries": "South Korea",
          "counts": 11,
          "index": 35
         },
         {
          "countries": "Spain",
          "counts": 3,
          "index": 36
         },
         {
          "countries": "Sweden",
          "counts": 4,
          "index": 37
         },
         {
          "countries": "Switzerland",
          "counts": 4,
          "index": 38
         },
         {
          "countries": "Thailand",
          "counts": 2,
          "index": 39
         },
         {
          "countries": "Turkey",
          "counts": 2,
          "index": 40
         },
         {
          "countries": "United Arab Emirates",
          "counts": 3,
          "index": 41
         },
         {
          "countries": "United Kingdom",
          "counts": 34,
          "index": 42
         },
         {
          "countries": "United States",
          "counts": 470,
          "index": 43
         },
         {
          "countries": "Vietnam",
          "counts": 1,
          "index": 44
         }
        ],
        "schema": {
         "fields": [
          {
           "name": "index",
           "type": "integer"
          },
          {
           "name": "countries",
           "type": "string"
          },
          {
           "name": "counts",
           "type": "integer"
          }
         ],
         "pandas_version": "0.20.0",
         "primaryKey": [
          "index"
         ]
        }
       },
       "total_rows": 45
      },
      "text/html": [
       "<div>\n",
       "<style scoped>\n",
       "    .dataframe tbody tr th:only-of-type {\n",
       "        vertical-align: middle;\n",
       "    }\n",
       "\n",
       "    .dataframe tbody tr th {\n",
       "        vertical-align: top;\n",
       "    }\n",
       "\n",
       "    .dataframe thead th {\n",
       "        text-align: right;\n",
       "    }\n",
       "</style>\n",
       "<table border=\"1\" class=\"dataframe\">\n",
       "  <thead>\n",
       "    <tr style=\"text-align: right;\">\n",
       "      <th></th>\n",
       "      <th>countries</th>\n",
       "      <th>counts</th>\n",
       "    </tr>\n",
       "  </thead>\n",
       "  <tbody>\n",
       "    <tr>\n",
       "      <th>0</th>\n",
       "      <td>Argentina</td>\n",
       "      <td>1</td>\n",
       "    </tr>\n",
       "    <tr>\n",
       "      <th>1</th>\n",
       "      <td>Australia</td>\n",
       "      <td>5</td>\n",
       "    </tr>\n",
       "    <tr>\n",
       "      <th>2</th>\n",
       "      <td>Austria</td>\n",
       "      <td>2</td>\n",
       "    </tr>\n",
       "    <tr>\n",
       "      <th>3</th>\n",
       "      <td>Belgium</td>\n",
       "      <td>2</td>\n",
       "    </tr>\n",
       "    <tr>\n",
       "      <th>4</th>\n",
       "      <td>Bermuda</td>\n",
       "      <td>1</td>\n",
       "    </tr>\n",
       "    <tr>\n",
       "      <th>5</th>\n",
       "      <td>Brazil</td>\n",
       "      <td>14</td>\n",
       "    </tr>\n",
       "    <tr>\n",
       "      <th>6</th>\n",
       "      <td>Canada</td>\n",
       "      <td>15</td>\n",
       "    </tr>\n",
       "    <tr>\n",
       "      <th>7</th>\n",
       "      <td>Chile</td>\n",
       "      <td>1</td>\n",
       "    </tr>\n",
       "    <tr>\n",
       "      <th>8</th>\n",
       "      <td>China</td>\n",
       "      <td>169</td>\n",
       "    </tr>\n",
       "    <tr>\n",
       "      <th>9</th>\n",
       "      <td>Colombia</td>\n",
       "      <td>2</td>\n",
       "    </tr>\n",
       "    <tr>\n",
       "      <th>10</th>\n",
       "      <td>Croatia</td>\n",
       "      <td>1</td>\n",
       "    </tr>\n",
       "    <tr>\n",
       "      <th>11</th>\n",
       "      <td>Czech Republic</td>\n",
       "      <td>1</td>\n",
       "    </tr>\n",
       "    <tr>\n",
       "      <th>12</th>\n",
       "      <td>Denmark</td>\n",
       "      <td>2</td>\n",
       "    </tr>\n",
       "    <tr>\n",
       "      <th>13</th>\n",
       "      <td>Estonia</td>\n",
       "      <td>1</td>\n",
       "    </tr>\n",
       "    <tr>\n",
       "      <th>14</th>\n",
       "      <td>Finland</td>\n",
       "      <td>2</td>\n",
       "    </tr>\n",
       "    <tr>\n",
       "      <th>15</th>\n",
       "      <td>France</td>\n",
       "      <td>19</td>\n",
       "    </tr>\n",
       "    <tr>\n",
       "      <th>16</th>\n",
       "      <td>Germany</td>\n",
       "      <td>22</td>\n",
       "    </tr>\n",
       "    <tr>\n",
       "      <th>17</th>\n",
       "      <td>Hong Kong</td>\n",
       "      <td>7</td>\n",
       "    </tr>\n",
       "    <tr>\n",
       "      <th>18</th>\n",
       "      <td>India</td>\n",
       "      <td>48</td>\n",
       "    </tr>\n",
       "    <tr>\n",
       "      <th>19</th>\n",
       "      <td>Indonesia</td>\n",
       "      <td>5</td>\n",
       "    </tr>\n",
       "    <tr>\n",
       "      <th>20</th>\n",
       "      <td>Ireland</td>\n",
       "      <td>3</td>\n",
       "    </tr>\n",
       "    <tr>\n",
       "      <th>21</th>\n",
       "      <td>Israel</td>\n",
       "      <td>20</td>\n",
       "    </tr>\n",
       "    <tr>\n",
       "      <th>22</th>\n",
       "      <td>Japan</td>\n",
       "      <td>6</td>\n",
       "    </tr>\n",
       "    <tr>\n",
       "      <th>23</th>\n",
       "      <td>Lithuania</td>\n",
       "      <td>1</td>\n",
       "    </tr>\n",
       "    <tr>\n",
       "      <th>24</th>\n",
       "      <td>Luxembourg</td>\n",
       "      <td>1</td>\n",
       "    </tr>\n",
       "    <tr>\n",
       "      <th>25</th>\n",
       "      <td>Malaysia</td>\n",
       "      <td>1</td>\n",
       "    </tr>\n",
       "    <tr>\n",
       "      <th>26</th>\n",
       "      <td>Mexico</td>\n",
       "      <td>4</td>\n",
       "    </tr>\n",
       "    <tr>\n",
       "      <th>27</th>\n",
       "      <td>Netherlands</td>\n",
       "      <td>5</td>\n",
       "    </tr>\n",
       "    <tr>\n",
       "      <th>28</th>\n",
       "      <td>Nigeria</td>\n",
       "      <td>1</td>\n",
       "    </tr>\n",
       "    <tr>\n",
       "      <th>29</th>\n",
       "      <td>Norway</td>\n",
       "      <td>3</td>\n",
       "    </tr>\n",
       "    <tr>\n",
       "      <th>30</th>\n",
       "      <td>Philippines</td>\n",
       "      <td>2</td>\n",
       "    </tr>\n",
       "    <tr>\n",
       "      <th>31</th>\n",
       "      <td>Santa Clara</td>\n",
       "      <td>1</td>\n",
       "    </tr>\n",
       "    <tr>\n",
       "      <th>32</th>\n",
       "      <td>Senegal</td>\n",
       "      <td>1</td>\n",
       "    </tr>\n",
       "    <tr>\n",
       "      <th>33</th>\n",
       "      <td>Singapore</td>\n",
       "      <td>12</td>\n",
       "    </tr>\n",
       "    <tr>\n",
       "      <th>34</th>\n",
       "      <td>South Africa</td>\n",
       "      <td>2</td>\n",
       "    </tr>\n",
       "    <tr>\n",
       "      <th>35</th>\n",
       "      <td>South Korea</td>\n",
       "      <td>11</td>\n",
       "    </tr>\n",
       "    <tr>\n",
       "      <th>36</th>\n",
       "      <td>Spain</td>\n",
       "      <td>3</td>\n",
       "    </tr>\n",
       "    <tr>\n",
       "      <th>37</th>\n",
       "      <td>Sweden</td>\n",
       "      <td>4</td>\n",
       "    </tr>\n",
       "    <tr>\n",
       "      <th>38</th>\n",
       "      <td>Switzerland</td>\n",
       "      <td>4</td>\n",
       "    </tr>\n",
       "    <tr>\n",
       "      <th>39</th>\n",
       "      <td>Thailand</td>\n",
       "      <td>2</td>\n",
       "    </tr>\n",
       "    <tr>\n",
       "      <th>40</th>\n",
       "      <td>Turkey</td>\n",
       "      <td>2</td>\n",
       "    </tr>\n",
       "    <tr>\n",
       "      <th>41</th>\n",
       "      <td>United Arab Emirates</td>\n",
       "      <td>3</td>\n",
       "    </tr>\n",
       "    <tr>\n",
       "      <th>42</th>\n",
       "      <td>United Kingdom</td>\n",
       "      <td>34</td>\n",
       "    </tr>\n",
       "    <tr>\n",
       "      <th>43</th>\n",
       "      <td>United States</td>\n",
       "      <td>470</td>\n",
       "    </tr>\n",
       "    <tr>\n",
       "      <th>44</th>\n",
       "      <td>Vietnam</td>\n",
       "      <td>1</td>\n",
       "    </tr>\n",
       "  </tbody>\n",
       "</table>\n",
       "</div>"
      ],
      "text/plain": [
       "               countries  counts\n",
       "0              Argentina       1\n",
       "1              Australia       5\n",
       "2                Austria       2\n",
       "3                Belgium       2\n",
       "4                Bermuda       1\n",
       "5                 Brazil      14\n",
       "6                 Canada      15\n",
       "7                  Chile       1\n",
       "8                  China     169\n",
       "9               Colombia       2\n",
       "10               Croatia       1\n",
       "11        Czech Republic       1\n",
       "12               Denmark       2\n",
       "13               Estonia       1\n",
       "14               Finland       2\n",
       "15                France      19\n",
       "16               Germany      22\n",
       "17             Hong Kong       7\n",
       "18                 India      48\n",
       "19             Indonesia       5\n",
       "20               Ireland       3\n",
       "21                Israel      20\n",
       "22                 Japan       6\n",
       "23             Lithuania       1\n",
       "24            Luxembourg       1\n",
       "25              Malaysia       1\n",
       "26                Mexico       4\n",
       "27           Netherlands       5\n",
       "28               Nigeria       1\n",
       "29                Norway       3\n",
       "30           Philippines       2\n",
       "31           Santa Clara       1\n",
       "32               Senegal       1\n",
       "33             Singapore      12\n",
       "34          South Africa       2\n",
       "35           South Korea      11\n",
       "36                 Spain       3\n",
       "37                Sweden       4\n",
       "38           Switzerland       4\n",
       "39              Thailand       2\n",
       "40                Turkey       2\n",
       "41  United Arab Emirates       3\n",
       "42        United Kingdom      34\n",
       "43         United States     470\n",
       "44               Vietnam       1"
      ]
     },
     "execution_count": 283,
     "metadata": {},
     "output_type": "execute_result"
    }
   ],
   "source": [
    "countries_df = pd.DataFrame({\"countries\": countries.index, \"counts\":countries.values})\n",
    "countries_df"
   ]
  },
  {
   "cell_type": "code",
   "execution_count": null,
   "id": "14d91d36-7d5d-4853-9bb4-6f6d9be2cd38",
   "metadata": {},
   "outputs": [
    {
     "data": {
      "text/plain": [
       "(array([  0., 100., 200., 300., 400., 500.]),\n",
       " [Text(0, 0, ''),\n",
       "  Text(0, 0, ''),\n",
       "  Text(0, 0, ''),\n",
       "  Text(0, 0, ''),\n",
       "  Text(0, 0, ''),\n",
       "  Text(0, 0, '')])"
      ]
     },
     "execution_count": 284,
     "metadata": {},
     "output_type": "execute_result"
    },
    {
     "data": {
      "image/png": "[encoded data removed]",
      "text/plain": [
       "<Figure size 720x1080 with 1 Axes>"
      ]
     },
     "metadata": {},
     "output_type": "display_data"
    }
   ],
   "source": [
    "sns.set(rc = {'figure.figsize':(10,15)})\n",
    "sns.countplot(y=df['Country'])\n",
    "plt.title(\"Companies Location and Their Count\", loc=\"left\")\n",
    "plt.xlabel(\"No. of Companies\")\n",
    "plt.ylabel(\"Countries\")\n",
    "plt.xticks(rotation=90)"
   ]
  },
  {
   "cell_type": "markdown",
   "id": "edeb7836-00ec-4b86-becc-d1ccee35dcb0",
   "metadata": {},
   "source": [
    " 470 companies of the unicon companies are from the and the second largest is China with 169 companies"
   ]
  },
  {
   "cell_type": "code",
   "execution_count": null,
   "id": "8f689248-71d9-4ebd-9617-696b6b1aa5de",
   "metadata": {},
   "outputs": [],
   "source": []
  },
  {
   "cell_type": "code",
   "execution_count": null,
   "id": "9c5f2177-048a-497e-a365-0b40ee0b8548",
   "metadata": {},
   "outputs": [
    {
     "data": {
      "application/com.datacamp.data-table.v1+json": {
       "is_truncated": false,
       "table": {
        "data": [
         {
          "No. Investors": 4,
          "Valuation ($B)": 140,
          "index": 0
         },
         {
          "No. Investors": 3,
          "Valuation ($B)": 100.3,
          "index": 1
         },
         {
          "No. Investors": 3,
          "Valuation ($B)": 95,
          "index": 2
         },
         {
          "No. Investors": 3,
          "Valuation ($B)": 45.6,
          "index": 3
         },
         {
          "No. Investors": 3,
          "Valuation ($B)": 40,
          "index": 4
         }
        ],
        "schema": {
         "fields": [
          {
           "name": "index",
           "type": "integer"
          },
          {
           "name": "Valuation ($B)",
           "type": "number"
          },
          {
           "name": "No. Investors",
           "type": "integer"
          }
         ],
         "pandas_version": "0.20.0",
         "primaryKey": [
          "index"
         ]
        }
       },
       "total_rows": 5
      },
      "text/html": [
       "<div>\n",
       "<style scoped>\n",
       "    .dataframe tbody tr th:only-of-type {\n",
       "        vertical-align: middle;\n",
       "    }\n",
       "\n",
       "    .dataframe tbody tr th {\n",
       "        vertical-align: top;\n",
       "    }\n",
       "\n",
       "    .dataframe thead th {\n",
       "        text-align: right;\n",
       "    }\n",
       "</style>\n",
       "<table border=\"1\" class=\"dataframe\">\n",
       "  <thead>\n",
       "    <tr style=\"text-align: right;\">\n",
       "      <th></th>\n",
       "      <th>Valuation ($B)</th>\n",
       "      <th>No. Investors</th>\n",
       "    </tr>\n",
       "  </thead>\n",
       "  <tbody>\n",
       "    <tr>\n",
       "      <th>0</th>\n",
       "      <td>140.0</td>\n",
       "      <td>4</td>\n",
       "    </tr>\n",
       "    <tr>\n",
       "      <th>1</th>\n",
       "      <td>100.3</td>\n",
       "      <td>3</td>\n",
       "    </tr>\n",
       "    <tr>\n",
       "      <th>2</th>\n",
       "      <td>95.0</td>\n",
       "      <td>3</td>\n",
       "    </tr>\n",
       "    <tr>\n",
       "      <th>3</th>\n",
       "      <td>45.6</td>\n",
       "      <td>3</td>\n",
       "    </tr>\n",
       "    <tr>\n",
       "      <th>4</th>\n",
       "      <td>40.0</td>\n",
       "      <td>3</td>\n",
       "    </tr>\n",
       "  </tbody>\n",
       "</table>\n",
       "</div>"
      ],
      "text/plain": [
       "   Valuation ($B)  No. Investors\n",
       "0           140.0              4\n",
       "1           100.3              3\n",
       "2            95.0              3\n",
       "3            45.6              3\n",
       "4            40.0              3"
      ]
     },
     "execution_count": 285,
     "metadata": {},
     "output_type": "execute_result"
    }
   ],
   "source": [
    "valuation_investors = df[[\"Valuation ($B)\", \"No. Investors\"]]\n",
    "valuation_investors.head()"
   ]
  },
  {
   "cell_type": "markdown",
   "id": "f8d0b13e-5169-40ba-ad05-400f14fcdcbb",
   "metadata": {},
   "source": [
    "It turns out that the highest valuation $140 Billon from the data has only 4 investors which is the highest in the data while the minimum has 3 investors"
   ]
  },
  {
   "cell_type": "code",
   "execution_count": null,
   "id": "43621a13-4676-4ff0-997f-285fe8f51d94",
   "metadata": {},
   "outputs": [],
   "source": []
  },
  {
   "cell_type": "code",
   "execution_count": null,
   "id": "993bd014-9042-403e-a164-44b2f0cfc94c",
   "metadata": {},
   "outputs": [
    {
     "data": {
      "application/com.datacamp.data-table.v1+json": {
       "is_truncated": false,
       "table": {
        "data": [
         {
          "Category": "Artificial intelligence",
          "Company": "Bytedance",
          "Country": "China",
          "Date Added": "2017-04-07T00:00:00.000Z",
          "No. Investors": 4,
          "Select Investors": "Sequoia Capital China, SIG Asia Investments, Sina Weibo, Softbank Group",
          "Valuation ($B)": 140,
          "index": 0
         },
         {
          "Category": "Other",
          "Company": "SpaceX",
          "Country": "United States",
          "Date Added": "2012-12-01T00:00:00.000Z",
          "No. Investors": 3,
          "Select Investors": "Founders Fund, Draper Fisher Jurvetson, Rothenberg Ventures",
          "Valuation ($B)": 100.3,
          "index": 1
         }
        ],
        "schema": {
         "fields": [
          {
           "name": "index",
           "type": "integer"
          },
          {
           "name": "Company",
           "type": "string"
          },
          {
           "name": "Valuation ($B)",
           "type": "number"
          },
          {
           "name": "Date Added",
           "type": "datetime"
          },
          {
           "name": "Country",
           "type": "string"
          },
          {
           "name": "Category",
           "type": "string"
          },
          {
           "name": "Select Investors",
           "type": "string"
          },
          {
           "name": "No. Investors",
           "type": "integer"
          }
         ],
         "pandas_version": "0.20.0",
         "primaryKey": [
          "index"
         ]
        }
       },
       "total_rows": 2
      },
      "text/html": [
       "<div>\n",
       "<style scoped>\n",
       "    .dataframe tbody tr th:only-of-type {\n",
       "        vertical-align: middle;\n",
       "    }\n",
       "\n",
       "    .dataframe tbody tr th {\n",
       "        vertical-align: top;\n",
       "    }\n",
       "\n",
       "    .dataframe thead th {\n",
       "        text-align: right;\n",
       "    }\n",
       "</style>\n",
       "<table border=\"1\" class=\"dataframe\">\n",
       "  <thead>\n",
       "    <tr style=\"text-align: right;\">\n",
       "      <th></th>\n",
       "      <th>Company</th>\n",
       "      <th>Valuation ($B)</th>\n",
       "      <th>Date Added</th>\n",
       "      <th>Country</th>\n",
       "      <th>Category</th>\n",
       "      <th>Select Investors</th>\n",
       "      <th>No. Investors</th>\n",
       "    </tr>\n",
       "  </thead>\n",
       "  <tbody>\n",
       "    <tr>\n",
       "      <th>0</th>\n",
       "      <td>Bytedance</td>\n",
       "      <td>140.0</td>\n",
       "      <td>2017-04-07</td>\n",
       "      <td>China</td>\n",
       "      <td>Artificial intelligence</td>\n",
       "      <td>Sequoia Capital China, SIG Asia Investments, S...</td>\n",
       "      <td>4</td>\n",
       "    </tr>\n",
       "    <tr>\n",
       "      <th>1</th>\n",
       "      <td>SpaceX</td>\n",
       "      <td>100.3</td>\n",
       "      <td>2012-12-01</td>\n",
       "      <td>United States</td>\n",
       "      <td>Other</td>\n",
       "      <td>Founders Fund, Draper Fisher Jurvetson, Rothen...</td>\n",
       "      <td>3</td>\n",
       "    </tr>\n",
       "  </tbody>\n",
       "</table>\n",
       "</div>"
      ],
      "text/plain": [
       "     Company  Valuation ($B) Date Added        Country  \\\n",
       "0  Bytedance           140.0 2017-04-07          China   \n",
       "1     SpaceX           100.3 2012-12-01  United States   \n",
       "\n",
       "                  Category                                   Select Investors  \\\n",
       "0  Artificial intelligence  Sequoia Capital China, SIG Asia Investments, S...   \n",
       "1                    Other  Founders Fund, Draper Fisher Jurvetson, Rothen...   \n",
       "\n",
       "   No. Investors  \n",
       "0              4  \n",
       "1              3  "
      ]
     },
     "execution_count": 286,
     "metadata": {},
     "output_type": "execute_result"
    }
   ],
   "source": [
    "df[df[\"Valuation ($B)\"] >100]"
   ]
  },
  {
   "cell_type": "markdown",
   "id": "5bc204af-4ecb-4568-9edb-bf8c11bd82c2",
   "metadata": {},
   "source": [
    "Only two countrises have valuation of over $100 Billion and they are in the categories of AI and Other from China and US respectively "
   ]
  },
  {
   "cell_type": "markdown",
   "id": "41a85f79-6c25-48c9-803b-2604bf1816cb",
   "metadata": {},
   "source": []
  },
  {
   "cell_type": "code",
   "execution_count": null,
   "id": "122e52af-deed-4d59-b6a3-467af2cca51d",
   "metadata": {},
   "outputs": [],
   "source": [
    "fintech = df[df[\"Category\"]==\"Fintech\"]"
   ]
  },
  {
   "cell_type": "code",
   "execution_count": null,
   "id": "83e1a4a4-7f77-4897-a167-44b9af3568d8",
   "metadata": {},
   "outputs": [
    {
     "name": "stdout",
     "output_type": "stream",
     "text": [
      "There are 185 number of finteh companies in the dataset.\n",
      "The highest valuation of fintech company from the dataset is:  95.0\n",
      "The least valuation of fintech company from the dataset is:  1.0\n"
     ]
    },
    {
     "data": {
      "text/plain": [
       "Country\n",
       "United States     97\n",
       "United Kingdom    20\n",
       "India             12\n",
       "China              8\n",
       "Germany            6\n",
       "Brazil             4\n",
       "Canada             4\n",
       "Mexico             3\n",
       "Singapore          3\n",
       "Hong Kong          3\n",
       "Indonesia          3\n",
       "Israel             3\n",
       "South Korea        2\n",
       "Netherlands        2\n",
       "Japan              2\n",
       "France             2\n",
       "Denmark            2\n",
       "Australia          1\n",
       "Nigeria            1\n",
       "Philippines        1\n",
       "Senegal            1\n",
       "Sweden             1\n",
       "Switzerland        1\n",
       "Thailand           1\n",
       "Austria            1\n",
       "Argentina          1\n",
       "dtype: int64"
      ]
     },
     "execution_count": 288,
     "metadata": {},
     "output_type": "execute_result"
    }
   ],
   "source": [
    "print(f\"There are {fintech.shape[0]} number of finteh companies in the dataset.\")\n",
    "print(f\"The highest valuation of fintech company from the dataset is: \", fintech[\"Valuation ($B)\"].max())\n",
    "print(f\"The least valuation of fintech company from the dataset is: \", fintech[\"Valuation ($B)\"].min())\n",
    "fintech.groupby(\"Country\").size().sort_values(ascending=False)"
   ]
  },
  {
   "cell_type": "markdown",
   "id": "3c8cdc5f-d88e-4041-9c28-28247e126c11",
   "metadata": {},
   "source": [
    "of the 185 fintech companies in the dataset, 95 of them are from the United States and 20 of them from United Kingdom."
   ]
  },
  {
   "cell_type": "markdown",
   "id": "1b0818eb-2469-456b-81fa-a928551723a2",
   "metadata": {},
   "source": []
  },
  {
   "cell_type": "code",
   "execution_count": null,
   "id": "0eb916c3-6e8b-4133-b147-bd216ee6598c",
   "metadata": {},
   "outputs": [
    {
     "name": "stdout",
     "output_type": "stream",
     "text": [
      "23% of the companies has valuation of $1 Billion\n",
      "4% of the companies has only 1 investors\n"
     ]
    }
   ],
   "source": [
    "import math\n",
    "\n",
    "valuation_1B = (df[df[\"Valuation ($B)\"]==1].shape[0] / df.shape[0]) * 100\n",
    "investors_1B = (df[df[\"No. Investors\"]==1].shape[0] / df.shape[0]) * 100\n",
    "print(f\"{math.floor(valuation_1B)}% of the companies has valuation of $1 Billion\")\n",
    "print(f\"{math.floor(investors_1B)}% of the companies has only 1 investors\")"
   ]
  },
  {
   "cell_type": "markdown",
   "id": "4f04508e-8e5c-4755-b79f-139698c822ca",
   "metadata": {},
   "source": []
  },
  {
   "cell_type": "code",
   "execution_count": 290,
   "id": "8d7d7d79-f722-4220-8a6f-ad709323f59f",
   "metadata": {},
   "outputs": [
    {
     "data": {
      "application/com.datacamp.data-table.v1+json": {
       "is_truncated": false,
       "table": {
        "data": [
         {
          "No. Investors": 125,
          "Valuation ($B)": 125,
          "index": "count"
         },
         {
          "No. Investors": 2.864,
          "Valuation ($B)": 12.79288,
          "index": "mean"
         },
         {
          "No. Investors": 0.5134324719,
          "Valuation ($B)": 17.5943408614,
          "index": "std"
         },
         {
          "No. Investors": 1,
          "Valuation ($B)": 5,
          "index": "min"
         },
         {
          "No. Investors": 3,
          "Valuation ($B)": 6,
          "index": "25%"
         },
         {
          "No. Investors": 3,
          "Valuation ($B)": 8,
          "index": "50%"
         },
         {
          "No. Investors": 3,
          "Valuation ($B)": 12,
          "index": "75%"
         },
         {
          "No. Investors": 4,
          "Valuation ($B)": 140,
          "index": "max"
         }
        ],
        "schema": {
         "fields": [
          {
           "name": "index",
           "type": "string"
          },
          {
           "name": "Valuation ($B)",
           "type": "number"
          },
          {
           "name": "No. Investors",
           "type": "number"
          }
         ],
         "pandas_version": "0.20.0",
         "primaryKey": [
          "index"
         ]
        }
       },
       "total_rows": 8
      },
      "text/html": [
       "<div>\n",
       "<style scoped>\n",
       "    .dataframe tbody tr th:only-of-type {\n",
       "        vertical-align: middle;\n",
       "    }\n",
       "\n",
       "    .dataframe tbody tr th {\n",
       "        vertical-align: top;\n",
       "    }\n",
       "\n",
       "    .dataframe thead th {\n",
       "        text-align: right;\n",
       "    }\n",
       "</style>\n",
       "<table border=\"1\" class=\"dataframe\">\n",
       "  <thead>\n",
       "    <tr style=\"text-align: right;\">\n",
       "      <th></th>\n",
       "      <th>Valuation ($B)</th>\n",
       "      <th>No. Investors</th>\n",
       "    </tr>\n",
       "  </thead>\n",
       "  <tbody>\n",
       "    <tr>\n",
       "      <th>count</th>\n",
       "      <td>125.000000</td>\n",
       "      <td>125.000000</td>\n",
       "    </tr>\n",
       "    <tr>\n",
       "      <th>mean</th>\n",
       "      <td>12.792880</td>\n",
       "      <td>2.864000</td>\n",
       "    </tr>\n",
       "    <tr>\n",
       "      <th>std</th>\n",
       "      <td>17.594341</td>\n",
       "      <td>0.513432</td>\n",
       "    </tr>\n",
       "    <tr>\n",
       "      <th>min</th>\n",
       "      <td>5.000000</td>\n",
       "      <td>1.000000</td>\n",
       "    </tr>\n",
       "    <tr>\n",
       "      <th>25%</th>\n",
       "      <td>6.000000</td>\n",
       "      <td>3.000000</td>\n",
       "    </tr>\n",
       "    <tr>\n",
       "      <th>50%</th>\n",
       "      <td>8.000000</td>\n",
       "      <td>3.000000</td>\n",
       "    </tr>\n",
       "    <tr>\n",
       "      <th>75%</th>\n",
       "      <td>12.000000</td>\n",
       "      <td>3.000000</td>\n",
       "    </tr>\n",
       "    <tr>\n",
       "      <th>max</th>\n",
       "      <td>140.000000</td>\n",
       "      <td>4.000000</td>\n",
       "    </tr>\n",
       "  </tbody>\n",
       "</table>\n",
       "</div>"
      ],
      "text/plain": [
       "       Valuation ($B)  No. Investors\n",
       "count      125.000000     125.000000\n",
       "mean        12.792880       2.864000\n",
       "std         17.594341       0.513432\n",
       "min          5.000000       1.000000\n",
       "25%          6.000000       3.000000\n",
       "50%          8.000000       3.000000\n",
       "75%         12.000000       3.000000\n",
       "max        140.000000       4.000000"
      ]
     },
     "execution_count": 290,
     "metadata": {},
     "output_type": "execute_result"
    }
   ],
   "source": [
    "# data of companies with $5 Billion and above valuation\n",
    "five_billion = df[df[\"Valuation ($B)\"]>= 5]\n",
    "five_billion.describe()      "
   ]
  },
  {
   "cell_type": "code",
   "execution_count": null,
   "id": "155a16f2-8fd1-4319-8619-e6352f837d84",
   "metadata": {},
   "outputs": [],
   "source": []
  },
  {
   "cell_type": "code",
   "execution_count": null,
   "id": "3492c224-cb79-48be-b366-a665e3274e5e",
   "metadata": {},
   "outputs": [],
   "source": []
  },
  {
   "cell_type": "markdown",
   "id": "c3f71c5f-ae20-414d-bc66-51375baf0e22",
   "metadata": {},
   "source": [
    "### CONCLUSION\n",
    "\n",
    "<li> Less than 75% of the companies has 3 investors\n",
    "<li> Less than 4% of the companies has only 1 investors\n",
    "<li> Less than 23% of the companies has valuation of 1 Billion USD\n",
    "<li> Most of the companies are from the United states (470) of which one of them has over $100 Billion in valuation\n",
    "<li> The categories of the top 5 companies are: <b> fintech, internet software & services, ecommerce & direct-to-customers, AI and health </b>"
   ]
  },
  {
   "cell_type": "markdown",
   "id": "fd167d76-f1ac-4f78-9bda-ed0d0868d527",
   "metadata": {
    "tags": []
   },
   "source": [
    "### RECOMMENDATION\n",
    "<li> The chances of making 1 Billion USD is slim with 1 investor\n",
    "<li> To make $1 Billion as a startup, invest in Fintech, Internet Software & Services, Ecommerce & direct-to-customers, AI and Health. The chances are high."
   ]
  },
  {
   "cell_type": "code",
   "execution_count": null,
   "id": "8e78c8be-6b4e-406c-9858-00466d40dcc8",
   "metadata": {},
   "outputs": [],
   "source": []
  }
 ],
 "metadata": {
  "colab": {
   "name": "Welcome to DataCamp Workspaces.ipynb",
   "provenance": []
  },
  "kernelspec": {
   "display_name": "Python 3 (ipykernel)",
   "language": "python",
   "name": "python3"
  },
  "language_info": {
   "codemirror_mode": {
    "name": "ipython",
    "version": 3
   },
   "file_extension": ".py",
   "mimetype": "text/x-python",
   "name": "python",
   "nbconvert_exporter": "python",
   "pygments_lexer": "ipython3",
   "version": "3.8.10"
  },
  "varInspector": {
   "cols": {
    "lenName": 16,
    "lenType": 16,
    "lenVar": 40
   },
   "kernels_config": {
    "python": {
     "delete_cmd_postfix": "",
     "delete_cmd_prefix": "del ",
     "library": "var_list.py",
     "varRefreshCmd": "print(var_dic_list())"
    },
    "r": {
     "delete_cmd_postfix": ") ",
     "delete_cmd_prefix": "rm(",
     "library": "var_list.r",
     "varRefreshCmd": "cat(var_dic_list()) "
    }
   },
   "types_to_exclude": [
    "module",
    "function",
    "builtin_function_or_method",
    "instance",
    "_Feature"
   ],
   "window_display": false
  }
 },
 "nbformat": 4,
 "nbformat_minor": 5
}
